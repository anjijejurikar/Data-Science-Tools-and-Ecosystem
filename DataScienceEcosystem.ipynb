{
  "nbformat": 4,
  "nbformat_minor": 5,
  "metadata": {},
  "cells": [
    {
      "id": "4f6f661c",
      "cell_type": "markdown",
      "source": "# Data Science Tools and Ecosystem",
      "metadata": {}
    },
    {
      "id": "4fb4754a",
      "cell_type": "markdown",
      "source": "In this notebook, Data Science Tools and Ecosystem are summarized.",
      "metadata": {}
    },
    {
      "id": "2a24ca80",
      "cell_type": "markdown",
      "source": "**Objectives:**\n- List popular languages for Data Science\n- List commonly used libraries for Data Science\n- Create tables using markdown\n- Perform arithmetic expressions in Python\n- Convert minutes to hours using Python expressions",
      "metadata": {}
    },
    {
      "id": "2a6f5d3d",
      "cell_type": "markdown",
      "source": "Some of the popular languages that Data Scientists use are:\n1. Python\n2. R\n3. SQL",
      "metadata": {}
    },
    {
      "id": "590d78fe",
      "cell_type": "markdown",
      "source": "Some of the commonly used libraries used by Data Scientists include:\n1. Pandas\n2. NumPy\n3. Scikit-learn",
      "metadata": {}
    },
    {
      "id": "1ca82c01",
      "cell_type": "markdown",
      "source": "| Data Science Tools |\n| --- |\n| Jupyter Notebook |\n| RStudio |\n| Apache Zeppelin |",
      "metadata": {}
    },
    {
      "id": "442c3aef",
      "cell_type": "markdown",
      "source": "### Below are a few examples of evaluating arithmetic expressions in Python.",
      "metadata": {}
    },
    {
      "id": "f86ffe8a",
      "cell_type": "code",
      "metadata": {},
      "execution_count": null,
      "source": "# This a simple arithmetic expression to multiply then add integers\n(3*4)+5",
      "outputs": []
    },
    {
      "id": "21c363ed",
      "cell_type": "code",
      "metadata": {},
      "execution_count": null,
      "source": "# This will convert 200 minutes to hours by dividing by 60\n200/60",
      "outputs": []
    },
    {
      "id": "74db0cc7",
      "cell_type": "markdown",
      "source": "## Author\nYour Name Here",
      "metadata": {}
    }
  ]
}